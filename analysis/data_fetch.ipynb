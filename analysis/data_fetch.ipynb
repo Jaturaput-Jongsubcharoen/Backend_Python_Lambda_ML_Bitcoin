{
 "cells": [
  {
   "cell_type": "code",
   "execution_count": 1,
   "id": "03fd16b2",
   "metadata": {},
   "outputs": [
    {
     "name": "stdout",
     "output_type": "stream",
     "text": [
      "Loading local file: data\\raw\\Binance_BTCUSDT_1h.csv\n"
     ]
    }
   ],
   "source": [
    "import os\n",
    "import pandas as pd\n",
    "from pathlib import Path\n",
    "from dotenv import load_dotenv\n",
    "\n",
    "# Load environment variables\n",
    "load_dotenv()\n",
    "\n",
    "\n",
    "# Build correct local path (relative to project root)\n",
    "local_path = Path(\"data/raw/Binance_BTCUSDT_1h.csv\")\n",
    "\n",
    "# Ensure it exists\n",
    "if not local_path.exists():\n",
    "    raise FileNotFoundError(f\"File not found: {local_path.resolve()}\")\n",
    "\n",
    "# Load CSV\n",
    "print(f\"Loading local file: {local_path}\")\n",
    "df = pd.read_csv(local_path, skiprows=1)"
   ]
  },
  {
   "cell_type": "code",
   "execution_count": 2,
   "id": "e0725636",
   "metadata": {},
   "outputs": [
    {
     "name": "stdout",
     "output_type": "stream",
     "text": [
      "Unix                    int64\n",
      "Date           datetime64[ns]\n",
      "Symbol                 object\n",
      "Open                  float64\n",
      "High                  float64\n",
      "Low                   float64\n",
      "Close                 float64\n",
      "Volume BTC            float64\n",
      "Volume USDT           float64\n",
      "tradecount              int64\n",
      "dtype: object\n",
      "0   2025-08-22 23:00:00\n",
      "1   2025-08-22 22:00:00\n",
      "2   2025-08-22 21:00:00\n",
      "3   2025-08-22 20:00:00\n",
      "4   2025-08-22 19:00:00\n",
      "Name: Date, dtype: datetime64[ns]\n"
     ]
    }
   ],
   "source": [
    "# Convert Date column\n",
    "df['Date'] = pd.to_datetime(df['Date'], errors=\"coerce\", format=\"mixed\")\n",
    "\n",
    "print(df.dtypes)\n",
    "print(df['Date'].head())"
   ]
  },
  {
   "cell_type": "code",
   "execution_count": 3,
   "id": "31188549",
   "metadata": {},
   "outputs": [
    {
     "name": "stdout",
     "output_type": "stream",
     "text": [
      "Total duplicate rows: 0\n"
     ]
    }
   ],
   "source": [
    "duplicates = df.duplicated()\n",
    "print(\"Total duplicate rows:\", duplicates.sum())"
   ]
  },
  {
   "cell_type": "code",
   "execution_count": 4,
   "id": "52b9cfd5",
   "metadata": {},
   "outputs": [
    {
     "name": "stdout",
     "output_type": "stream",
     "text": [
      "Duplicate timestamps: 506\n"
     ]
    }
   ],
   "source": [
    "print(\"Duplicate timestamps:\", df['Date'].duplicated().sum())"
   ]
  },
  {
   "cell_type": "code",
   "execution_count": 5,
   "id": "6fa05268",
   "metadata": {},
   "outputs": [
    {
     "name": "stdout",
     "output_type": "stream",
     "text": [
      "Number of duplicated timestamps: 506\n",
      "Date\n",
      "2025-03-03 21:00:00    2\n",
      "2025-03-07 10:00:00    2\n",
      "2025-03-07 23:00:00    2\n",
      "2025-03-07 22:00:00    2\n",
      "2025-03-07 21:00:00    2\n",
      "2025-03-07 20:00:00    2\n",
      "2025-03-07 19:00:00    2\n",
      "2025-03-07 18:00:00    2\n",
      "2025-03-07 17:00:00    2\n",
      "2025-03-07 16:00:00    2\n",
      "Name: count, dtype: int64\n"
     ]
    }
   ],
   "source": [
    "# Count how many times each timestamp appears\n",
    "timestamp_counts = df['Date'].value_counts().sort_values(ascending=False)\n",
    "\n",
    "# Show only duplicates (timestamps with more than 1 occurrence)\n",
    "duplicates_fixed = timestamp_counts[timestamp_counts > 1]\n",
    "\n",
    "print(\"Number of duplicated timestamps:\", len(duplicates_fixed))\n",
    "print(duplicates_fixed.head(10))  # show top 10 duplicates"
   ]
  },
  {
   "cell_type": "code",
   "execution_count": 6,
   "id": "772f5bb9",
   "metadata": {},
   "outputs": [
    {
     "name": "stdout",
     "output_type": "stream",
     "text": [
      "Are all duplicate rows identical? False\n"
     ]
    }
   ],
   "source": [
    "# Find all duplicates by Date\n",
    "dupes = df[df['Date'].duplicated(keep=False)].sort_values('Date')\n",
    "\n",
    "# Check if all values in these duplicates are the same\n",
    "all_equal = dupes.groupby('Date').nunique().max(axis=1).eq(1).all()\n",
    "\n",
    "print(\"Are all duplicate rows identical?\", all_equal)"
   ]
  },
  {
   "cell_type": "code",
   "execution_count": 7,
   "id": "464fb56f",
   "metadata": {},
   "outputs": [
    {
     "name": "stdout",
     "output_type": "stream",
     "text": [
      "Duplicate timestamps left: 0\n"
     ]
    }
   ],
   "source": [
    "df = df.groupby('Date', as_index=False).agg({\n",
    "    'Symbol': 'first',     # same for all rows\n",
    "    'Open': 'mean',        # average price at open\n",
    "    'High': 'max',         # take the maximum high\n",
    "    'Low': 'min',          # take the minimum low\n",
    "    'Close': 'last',       # take the last close\n",
    "    'Volume BTC': 'sum',   # sum up the volumes\n",
    "    'Volume USDT': 'sum',\n",
    "    'tradecount': 'sum'    # total number of trades\n",
    "})\n",
    "\n",
    "print(\"Duplicate timestamps left:\", df['Date'].duplicated().sum())"
   ]
  },
  {
   "cell_type": "markdown",
   "id": "fd635d3f",
   "metadata": {},
   "source": [
    "# Display the information about the Dataset"
   ]
  },
  {
   "cell_type": "code",
   "execution_count": 8,
   "id": "0641ac7f",
   "metadata": {},
   "outputs": [
    {
     "name": "stdout",
     "output_type": "stream",
     "text": [
      "<class 'pandas.core.frame.DataFrame'>\n",
      "RangeIndex: 69631 entries, 0 to 69630\n",
      "Data columns (total 9 columns):\n",
      " #   Column       Non-Null Count  Dtype         \n",
      "---  ------       --------------  -----         \n",
      " 0   Date         69631 non-null  datetime64[ns]\n",
      " 1   Symbol       69631 non-null  object        \n",
      " 2   Open         69631 non-null  float64       \n",
      " 3   High         69631 non-null  float64       \n",
      " 4   Low          69631 non-null  float64       \n",
      " 5   Close        69631 non-null  float64       \n",
      " 6   Volume BTC   69631 non-null  float64       \n",
      " 7   Volume USDT  69631 non-null  float64       \n",
      " 8   tradecount   69631 non-null  int64         \n",
      "dtypes: datetime64[ns](1), float64(6), int64(1), object(1)\n",
      "memory usage: 4.8+ MB\n",
      "None\n",
      "               count                           mean                  min  \\\n",
      "Date           69631  2021-08-11 11:05:11.666871552  2017-08-17 04:00:00   \n",
      "Open         69631.0                   32372.715203               2870.9   \n",
      "High         69631.0                   32512.947938               2950.0   \n",
      "Low          69631.0                   32226.106196               2817.0   \n",
      "Close        69631.0                   32374.203545               2919.0   \n",
      "Volume BTC   69631.0                    2715.231005                  0.0   \n",
      "Volume USDT  69631.0                74271040.054617                  0.0   \n",
      "tradecount   69631.0                   75491.299062                  0.0   \n",
      "\n",
      "                             25%                  50%                  75%  \\\n",
      "Date         2019-08-16 07:30:00  2021-08-11 19:00:00  2023-08-07 09:30:00   \n",
      "Open                     8877.09             23154.57            47687.735   \n",
      "High                      8925.0              23236.9             47955.79   \n",
      "Low                     8822.995             23055.94            47439.645   \n",
      "Close                     8877.2             23156.72             47692.04   \n",
      "Volume BTC            823.916246          1486.203716           2873.54314   \n",
      "Volume USDT      12638224.203303      37890395.594933       94899768.56605   \n",
      "tradecount               14710.0              37367.0              85507.5   \n",
      "\n",
      "                             max               std  \n",
      "Date         2025-08-22 23:00:00               NaN  \n",
      "Open                   123847.82      28636.778929  \n",
      "High                   123946.46      28733.713664  \n",
      "Low                    123337.66       28538.29882  \n",
      "Close                  123662.53      28638.133983  \n",
      "Volume BTC           137207.1886        4000.60706  \n",
      "Volume USDT    3005633669.260812  106924685.086902  \n",
      "tradecount             2547632.0      112892.29424  \n"
     ]
    }
   ],
   "source": [
    "# General info about columns, types, non-null counts\n",
    "print(df.info())\n",
    "\n",
    "# Basic statistics for numeric columns\n",
    "print(df.describe().T)"
   ]
  },
  {
   "cell_type": "code",
   "execution_count": 10,
   "id": "1f4cbf47",
   "metadata": {},
   "outputs": [
    {
     "name": "stdout",
     "output_type": "stream",
     "text": [
      "                 Date   Symbol     Open     High      Low    Close  \\\n",
      "0 2017-08-17 04:00:00  BTCUSDT  4261.48  4313.62  4261.32  4308.83   \n",
      "1 2017-08-17 05:00:00  BTCUSDT  4308.83  4328.69  4291.37  4315.32   \n",
      "2 2017-08-17 06:00:00  BTCUSDT  4330.29  4345.45  4309.37  4324.35   \n",
      "3 2017-08-17 07:00:00  BTCUSDT  4316.62  4349.99  4287.41  4349.99   \n",
      "4 2017-08-17 08:00:00  BTCUSDT  4333.32  4377.85  4333.32  4360.69   \n",
      "\n",
      "   Volume BTC    Volume USDT  tradecount  \n",
      "0   47.181009  202366.138393         171  \n",
      "1   23.234916  100304.823567         102  \n",
      "2    7.229691   31282.312670          36  \n",
      "3    4.443249   19241.058300          25  \n",
      "4    0.972807    4239.503586          28  \n",
      "                     Date   Symbol       Open       High        Low  \\\n",
      "69626 2025-08-22 19:00:00  BTCUSDT  116805.27  116914.30  116520.00   \n",
      "69627 2025-08-22 20:00:00  BTCUSDT  116655.79  117127.44  116570.17   \n",
      "69628 2025-08-22 21:00:00  BTCUSDT  117052.65  117174.43  116829.34   \n",
      "69629 2025-08-22 22:00:00  BTCUSDT  117028.27  117057.14  116550.96   \n",
      "69630 2025-08-22 23:00:00  BTCUSDT  116757.18  116937.56  116674.51   \n",
      "\n",
      "           Close  Volume BTC   Volume USDT  tradecount  \n",
      "69626  116655.79   529.51964  6.180409e+07       95954  \n",
      "69627  117052.65   545.69500  6.379776e+07       78489  \n",
      "69628  117028.27   678.08593  7.932308e+07       73234  \n",
      "69629  116757.18   585.72702  6.838091e+07       61139  \n",
      "69630  116935.99   306.48652  3.579824e+07       47073  \n"
     ]
    }
   ],
   "source": [
    "# Display the first and last 5 rows\n",
    "print(df.head())\n",
    "print(df.tail())"
   ]
  },
  {
   "cell_type": "code",
   "execution_count": 13,
   "id": "1968b8bf",
   "metadata": {},
   "outputs": [
    {
     "name": "stdout",
     "output_type": "stream",
     "text": [
      "Date           0\n",
      "Symbol         0\n",
      "Open           0\n",
      "High           0\n",
      "Low            0\n",
      "Close          0\n",
      "Volume BTC     0\n",
      "Volume USDT    0\n",
      "tradecount     0\n",
      "dtype: int64\n",
      "Any missing values? False\n"
     ]
    }
   ],
   "source": [
    "# Count null values in each column\n",
    "print(df.isna().sum())\n",
    "\n",
    "# Check if *any* null exists\n",
    "print(\"Any missing values?\", df.isna().any().any())"
   ]
  },
  {
   "cell_type": "code",
   "execution_count": 12,
   "id": "54d5baa5",
   "metadata": {},
   "outputs": [
    {
     "ename": "AttributeError",
     "evalue": "'RangeIndex' object has no attribute 'hour'",
     "output_type": "error",
     "traceback": [
      "\u001b[1;31m---------------------------------------------------------------------------\u001b[0m",
      "\u001b[1;31mAttributeError\u001b[0m                            Traceback (most recent call last)",
      "Cell \u001b[1;32mIn[12], line 4\u001b[0m\n\u001b[0;32m      1\u001b[0m \u001b[38;5;28;01mimport\u001b[39;00m \u001b[38;5;21;01mnumpy\u001b[39;00m \u001b[38;5;28;01mas\u001b[39;00m \u001b[38;5;21;01mnp\u001b[39;00m\n\u001b[0;32m      3\u001b[0m \u001b[38;5;66;03m# Extract time features\u001b[39;00m\n\u001b[1;32m----> 4\u001b[0m df[\u001b[38;5;124m'\u001b[39m\u001b[38;5;124mhour\u001b[39m\u001b[38;5;124m'\u001b[39m] \u001b[38;5;241m=\u001b[39m df\u001b[38;5;241m.\u001b[39mindex\u001b[38;5;241m.\u001b[39mhour\n\u001b[0;32m      5\u001b[0m df[\u001b[38;5;124m'\u001b[39m\u001b[38;5;124mday_of_week\u001b[39m\u001b[38;5;124m'\u001b[39m] \u001b[38;5;241m=\u001b[39m df\u001b[38;5;241m.\u001b[39mindex\u001b[38;5;241m.\u001b[39mdayofweek\n\u001b[0;32m      6\u001b[0m df[\u001b[38;5;124m'\u001b[39m\u001b[38;5;124mmonth\u001b[39m\u001b[38;5;124m'\u001b[39m] \u001b[38;5;241m=\u001b[39m df\u001b[38;5;241m.\u001b[39mindex\u001b[38;5;241m.\u001b[39mmonth\n",
      "\u001b[1;31mAttributeError\u001b[0m: 'RangeIndex' object has no attribute 'hour'"
     ]
    }
   ],
   "source": [
    "import numpy as np\n",
    "\n",
    "# Extract time features\n",
    "df['hour'] = df.index.hour\n",
    "df['day_of_week'] = df.index.dayofweek\n",
    "df['month'] = df.index.month\n",
    "\n",
    "# Cyclical encoding for hour\n",
    "df['hour_sin'] = np.sin(2 * np.pi * df['hour'] / 24)\n",
    "df['hour_cos'] = np.cos(2 * np.pi * df['hour'] / 24)\n",
    "\n",
    "# Cyclical encoding for day of week (7 days)\n",
    "df['dow_sin'] = np.sin(2 * np.pi * df['day_of_week'] / 7)\n",
    "df['dow_cos'] = np.cos(2 * np.pi * df['day_of_week'] / 7)\n",
    "\n",
    "print(df.head())\n"
   ]
  }
 ],
 "metadata": {
  "kernelspec": {
   "display_name": "base",
   "language": "python",
   "name": "python3"
  },
  "language_info": {
   "codemirror_mode": {
    "name": "ipython",
    "version": 3
   },
   "file_extension": ".py",
   "mimetype": "text/x-python",
   "name": "python",
   "nbconvert_exporter": "python",
   "pygments_lexer": "ipython3",
   "version": "3.12.4"
  }
 },
 "nbformat": 4,
 "nbformat_minor": 5
}
